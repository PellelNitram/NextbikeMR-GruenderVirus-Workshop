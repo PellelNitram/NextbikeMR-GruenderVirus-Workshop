{
 "cells": [
  {
   "cell_type": "markdown",
   "metadata": {},
   "source": [
    "# NextbikeMR GruenderVirus Workshop\n",
    "\n",
    "*Martin Lellep*\n",
    "\n",
    "<p style=\"font-size: 70%;\"><i>(c) Martin Lellep 2021 - This Jupyter notebook file belongs to my project \"Cycling in Marburg\" (<a href=\"http://lellep.xyz/blog/cycling-in-marburg-1-intro.html\">http://lellep.xyz/blog/cycling-in-marburg-1-intro.html</a>).</i></p>\n",
    "\n",
    "<img src=\"GV_logo.jpg\" width=\"30%\">"
   ]
  },
  {
   "cell_type": "markdown",
   "metadata": {},
   "source": [
    "Wir wollen in diesem Workshop die Zahl der Nextbikes an Marburger Stationen analysieren. Wir werden die folgenden Fragen beantworten:\n",
    "\n",
    "1. Manuelle Begutachtung der Datenlage.\n",
    "2. Analyse des zeitlichen Verlaufs der Zahl der Nextbikes an den verschiedenen Stationen.\n",
    "3. Zu welchen Zeiten wird besonders viel geparkt?\n",
    "4. Welche Station ist die groesste Station?\n",
    "5. Welche Station ist am haeufigsten leer?\n",
    "\n",
    "Diese Fragen gehoeren zu der Kategorie *data analytics* und sind ein Schritt vor *Machine Learning* Berechnungen.\n",
    "\n",
    "Die Loesungen zu den Fragen sind in der Datei `workshop_loesungen.md` zu finden."
   ]
  },
  {
   "cell_type": "markdown",
   "metadata": {},
   "source": [
    "## Aufgabe 1\n",
    "\n",
    "Schaue dir die Beispiel-Daten in der Datei `gruenderVirus_sample_data.csv` an. Du kannst die Datei entweder in einem Text-Editor oeffnen oder in ein Spreadsheet-Programm wie Microsoft Excel oder LibreOffice Calc importieren.\n",
    "\n",
    "Leitfragen sind hierbei:\n",
    "\n",
    "1. Was fuer Datentypen sind aufgezeichnet?\n",
    "2. Wieviele Datenpunkte sind enthalten?\n",
    "3. Was koennte man damit analysieren?\n",
    "4. Was koennte man damit **nicht** analysieren?"
   ]
  },
  {
   "cell_type": "markdown",
   "metadata": {},
   "source": [
    "## Aufgabe 2\n",
    "\n",
    "Zunaechst einmal muessen die Daten geladen werden. Sie sind nach dem Ausfuehren des folgenden Codes als `df` ansprechbar."
   ]
  },
  {
   "cell_type": "code",
   "execution_count": null,
   "metadata": {},
   "outputs": [],
   "source": [
    "import pandas as pd\n",
    "import matplotlib.pyplot as plt\n",
    "import numpy as np\n",
    "\n",
    "df = pd.read_csv('gruenderVirus_sample_data.csv', comment='#')\n",
    "df.index = pd.to_datetime(df['timestamp'])\n",
    "del df['timestamp']"
   ]
  },
  {
   "cell_type": "code",
   "execution_count": null,
   "metadata": {},
   "outputs": [],
   "source": [
    "# Dein Code hier"
   ]
  },
  {
   "cell_type": "markdown",
   "metadata": {},
   "source": [
    "## Aufgabe 3"
   ]
  },
  {
   "cell_type": "code",
   "execution_count": null,
   "metadata": {},
   "outputs": [],
   "source": [
    "# Dein Code hier"
   ]
  },
  {
   "cell_type": "markdown",
   "metadata": {},
   "source": [
    "## Aufgabe 4"
   ]
  },
  {
   "cell_type": "code",
   "execution_count": null,
   "metadata": {},
   "outputs": [],
   "source": [
    "# Dein Code hier"
   ]
  },
  {
   "cell_type": "markdown",
   "metadata": {},
   "source": [
    "## Aufgabe 5"
   ]
  },
  {
   "cell_type": "code",
   "execution_count": null,
   "metadata": {},
   "outputs": [],
   "source": [
    "# Dein Code hier"
   ]
  }
 ],
 "metadata": {
  "kernelspec": {
   "display_name": "Python 3",
   "language": "python",
   "name": "python3"
  },
  "language_info": {
   "codemirror_mode": {
    "name": "ipython",
    "version": 3
   },
   "file_extension": ".py",
   "mimetype": "text/x-python",
   "name": "python",
   "nbconvert_exporter": "python",
   "pygments_lexer": "ipython3",
   "version": "3.8.3"
  }
 },
 "nbformat": 4,
 "nbformat_minor": 4
}
